{
 "cells": [
  {
   "cell_type": "markdown",
   "id": "9fe7807a",
   "metadata": {},
   "source": [
    "# Visualize a scattering event using my WebGL code\n",
    "\n",
    "First, clone the GitHub repo: https://github.com/ageller/Scatter_WebGL"
   ]
  },
  {
   "cell_type": "code",
   "execution_count": 1,
   "id": "edc6d266",
   "metadata": {},
   "outputs": [],
   "source": [
    "import os\n",
    "import json\n",
    "import pandas as pd\n",
    "import numpy as np\n",
    "\n",
    "from IPython.display import IFrame\n",
    "\n",
    "import http.server\n",
    "import socketserver\n",
    "\n",
    "from threading import Thread"
   ]
  },
  {
   "cell_type": "code",
   "execution_count": 2,
   "id": "d16b6c3e",
   "metadata": {},
   "outputs": [],
   "source": [
    "# define the directory where the code lives (this can be anywhere on your computer; just change the directory below)\n",
    "directory = os.path.join(\"/home/ynad93/tsunami/cusp_data/testing_files\")"
   ]
  },
  {
   "cell_type": "markdown",
   "id": "91faa0f2",
   "metadata": {},
   "source": [
    "## Create some new data to replace the default data packaged with repo\n",
    "\n",
    "For this example, I will read in some data in a csv file that I created a while ago.  (Note that this data is downsampled, and in some parts of the time sequence the trajectories do not look smooth.)\n",
    "\n",
    "The data will need to be reformatted into a dict and output as a json with the following structure.  Each primary key is a time, and for each time there are particles that have the word \"Particle\" in the key name.  Each particle has at least a key of \"r\" with [x,y,z] values (anything else is ignored).\n",
    "\n",
    "Below is a visual example of how the data should be formatted:\n",
    "\n",
    "```\n",
    "{\n",
    "\"0.1\": {\n",
    "  \"Particle1\": {\n",
    "    \"r\" : [-44.59797843122882, -1.602469437175624, -6.039267952136012e-14],\n",
    "   },\n",
    "  \"Particle2\": {\n",
    "    \"r\" : [21.90496690915433, 1.108629663443225, -0.01596151404716814],\n",
    "   },\n",
    "  \"Particle3\": {\n",
    "    \"r\" : [22.6930115220745, 0.4938397737323992, 0.01596151404722853],\n",
    "   }\n",
    "},\n",
    "\"0.2\": { ...\n",
    "```"
   ]
  },
  {
   "cell_type": "code",
   "execution_count": 34,
   "id": "fc1c25a9",
   "metadata": {},
   "outputs": [],
   "source": [
    "# read in the data\n",
    "times = np.load(os.path.join(directory, \"t.npy\"))/(2*np.pi)\n",
    "posall = np.load(os.path.join(directory, \"pos.npy\"))\n",
    "starIDs = np.arange(posall.shape[1])"
   ]
  },
  {
   "cell_type": "code",
   "execution_count": 35,
   "id": "b2b0c6a6",
   "metadata": {},
   "outputs": [
    {
     "data": {
      "text/plain": [
       "array([0.      , 0.      , 0.      , ..., 7.90351 , 7.903592, 7.903725])"
      ]
     },
     "execution_count": 35,
     "metadata": {},
     "output_type": "execute_result"
    }
   ],
   "source": [
    "np.round(times,6)"
   ]
  },
  {
   "cell_type": "code",
   "execution_count": 48,
   "id": "532893f3",
   "metadata": {},
   "outputs": [],
   "source": [
    "# reformat and output to the json file\n",
    "Nframes = times.size\n",
    "i0 = 0\n",
    "i1 = -1\n",
    "if Nframes>1E4:\n",
    "    N_2 = int(times.size/2)\n",
    "    i0 = int(N_2+55000)\n",
    "    i1 = int(N_2*2 -1)\n",
    "\n",
    "newData = dict()\n",
    "i = i0\n",
    "for t in times[i0:i1]:\n",
    "    newData[t] = {}\n",
    "    j = 0\n",
    "    for iden in starIDs:\n",
    "        newData[t]['P' + str(iden)] = {'r': [posall[i,j,0], posall[i,j,1], posall[i,j,2]]}\n",
    "        j+=1\n",
    "    i+=1\n",
    "\n",
    "# serialize json\n",
    "json_object = json.dumps(newData, indent = 4)\n",
    " \n",
    "# write to file (ScatterParts.json is the file name, and it lives in the code's data directory)\n",
    "# Note: this will replace the default data set\n",
    "with open(os.path.join(os.getcwd(),'data','ScatterParts.json'), \"w\") as outfile:\n",
    "    outfile.write(json_object)"
   ]
  },
  {
   "cell_type": "code",
   "execution_count": 5,
   "id": "3a53ce3a",
   "metadata": {},
   "outputs": [
    {
     "data": {
      "text/plain": [
       "-200000"
      ]
     },
     "execution_count": 5,
     "metadata": {},
     "output_type": "execute_result"
    }
   ],
   "source": [
    "i0-i1"
   ]
  },
  {
   "cell_type": "code",
   "execution_count": 10,
   "id": "d8e9d303",
   "metadata": {},
   "outputs": [],
   "source": [
    "# define the port that you want (8000 is standard)\n",
    "port = 8001"
   ]
  },
  {
   "cell_type": "code",
   "execution_count": null,
   "id": "486ee7ca",
   "metadata": {},
   "outputs": [
    {
     "name": "stderr",
     "output_type": "stream",
     "text": [
      "Exception in thread Thread-8:\n",
      "Traceback (most recent call last):\n",
      "  File \"/usr/lib/python3.8/threading.py\", line 932, in _bootstrap_inner\n",
      "    self.run()\n",
      "  File \"/tmp/ipykernel_2598/252163901.py\", line 6, in run\n"
     ]
    },
    {
     "name": "stderr",
     "output_type": "stream",
     "text": [
      "  File \"/usr/lib/python3.8/socketserver.py\", line 452, in __init__\n",
      "    self.server_bind()\n",
      "  File \"/usr/lib/python3.8/socketserver.py\", line 466, in server_bind\n",
      "    self.socket.bind(self.server_address)\n",
      "OSError: [Errno 98] Address already in use\n"
     ]
    }
   ],
   "source": [
    "# a simple class to start the http server in a thread (so that you still have access to the jupyter notebook)\n",
    "class serverThread(Thread): \n",
    "    def run(self):\n",
    "        handler = http.server.SimpleHTTPRequestHandler\n",
    "        #os.chdir(directory)\n",
    "        with socketserver.TCPServer((\"\", port), handler) as httpd:\n",
    "            print(\"serving at port\", port)\n",
    "            httpd.serve_forever()\n",
    "\n",
    "serverThread().start()"
   ]
  },
  {
   "cell_type": "code",
   "execution_count": 49,
   "id": "e5b6e5cf",
   "metadata": {},
   "outputs": [
    {
     "data": {
      "text/html": [
       "\n",
       "        <iframe\n",
       "            width=\"1200\"\n",
       "            height=\"800\"\n",
       "            src=\"http://localhost:8001\"\n",
       "            frameborder=\"0\"\n",
       "            allowfullscreen\n",
       "            \n",
       "        ></iframe>\n",
       "        "
      ],
      "text/plain": [
       "<IPython.lib.display.IFrame at 0x7f56f0130100>"
      ]
     },
     "execution_count": 49,
     "metadata": {},
     "output_type": "execute_result"
    },
    {
     "name": "stderr",
     "output_type": "stream",
     "text": [
      "127.0.0.1 - - [20/Jan/2023 16:37:37] \"GET /data/ScatterParts.json HTTP/1.1\" 200 -\n"
     ]
    }
   ],
   "source": [
    "# create an iFrame to view the visualization in this notebook\n",
    "IFrame(\"http://localhost:8001\", width = 1200, height = 800)"
   ]
  },
  {
   "cell_type": "code",
   "execution_count": null,
   "id": "0bac58ad",
   "metadata": {},
   "outputs": [],
   "source": [
    "server"
   ]
  }
 ],
 "metadata": {
  "kernelspec": {
   "display_name": "Python 3",
   "language": "python",
   "name": "python3"
  },
  "language_info": {
   "codemirror_mode": {
    "name": "ipython",
    "version": 3
   },
   "file_extension": ".py",
   "mimetype": "text/x-python",
   "name": "python",
   "nbconvert_exporter": "python",
   "pygments_lexer": "ipython3",
   "version": "3.8.10"
  },
  "vscode": {
   "interpreter": {
    "hash": "31f2aee4e71d21fbe5cf8b01ff0e069b9275f58929596ceb00d14d90e3e16cd6"
   }
  }
 },
 "nbformat": 4,
 "nbformat_minor": 5
}
