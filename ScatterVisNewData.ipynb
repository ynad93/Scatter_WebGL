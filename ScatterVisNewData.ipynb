{
 "cells": [
  {
   "cell_type": "markdown",
   "id": "9fe7807a",
   "metadata": {},
   "source": [
    "# Visualize a scattering event using my WebGL code\n",
    "\n",
    "First, clone the GitHub repo: https://github.com/ageller/Scatter_WebGL"
   ]
  },
  {
   "cell_type": "code",
   "execution_count": 1,
   "id": "edc6d266",
   "metadata": {},
   "outputs": [],
   "source": [
    "import os\n",
    "import json\n",
    "import pandas as pd\n",
    "import numpy as np\n",
    "from scipy.interpolate import interp1d\n",
    "\n",
    "from IPython.display import IFrame\n",
    "\n",
    "import http.server\n",
    "import socketserver\n",
    "\n",
    "from threading import Thread"
   ]
  },
  {
   "cell_type": "code",
   "execution_count": 2,
   "id": "d16b6c3e",
   "metadata": {},
   "outputs": [],
   "source": [
    "# define the directory where the code lives (this can be anywhere on your computer; just change the directory below)\n",
    "directory = os.path.join(\"/home/ynad93/tsunami/cusp_data/testing_files\")"
   ]
  },
  {
   "cell_type": "markdown",
   "id": "91faa0f2",
   "metadata": {},
   "source": [
    "## Create some new data to replace the default data packaged with repo\n",
    "\n",
    "For this example, I will read in some data in a csv file that I created a while ago.  (Note that this data is downsampled, and in some parts of the time sequence the trajectories do not look smooth.)\n",
    "\n",
    "The data will need to be reformatted into a dict and output as a json with the following structure.  Each primary key is a time, and for each time there are particles that have the word \"Particle\" in the key name.  Each particle has at least a key of \"r\" with [x,y,z] values (anything else is ignored).\n",
    "\n",
    "Below is a visual example of how the data should be formatted:\n",
    "\n",
    "```\n",
    "{\n",
    "\"0.1\": {\n",
    "  \"Particle1\": {\n",
    "    \"r\" : [-44.59797843122882, -1.602469437175624, -6.039267952136012e-14],\n",
    "   },\n",
    "  \"Particle2\": {\n",
    "    \"r\" : [21.90496690915433, 1.108629663443225, -0.01596151404716814],\n",
    "   },\n",
    "  \"Particle3\": {\n",
    "    \"r\" : [22.6930115220745, 0.4938397737323992, 0.01596151404722853],\n",
    "   }\n",
    "},\n",
    "\"0.2\": { ...\n",
    "```"
   ]
  },
  {
   "cell_type": "code",
   "execution_count": 3,
   "id": "fc1c25a9",
   "metadata": {},
   "outputs": [],
   "source": [
    "# read in the data\n",
    "times = np.load(os.path.join(directory, \"t.npy\"))/(2*np.pi)\n",
    "posall = np.load(os.path.join(directory, \"pos.npy\"))\n",
    "starIDs = np.arange(posall.shape[1])"
   ]
  },
  {
   "cell_type": "code",
   "execution_count": null,
   "id": "b1e1d6b1",
   "metadata": {},
   "outputs": [],
   "source": []
  },
  {
   "cell_type": "code",
   "execution_count": 4,
   "id": "b2b0c6a6",
   "metadata": {},
   "outputs": [],
   "source": [
    "interp = interp1d(times, posall, kind='linear', axis=0)"
   ]
  },
  {
   "cell_type": "code",
   "execution_count": 5,
   "id": "27e66ef2",
   "metadata": {},
   "outputs": [],
   "source": [
    "tlin = np.arange(times[0], times[-1], 1E-3)\n",
    "#tlin = np.linspace(times[0], times[-1], 25000)\n",
    "f = interp(tlin)"
   ]
  },
  {
   "cell_type": "code",
   "execution_count": 10,
   "id": "ebb5a2e3",
   "metadata": {},
   "outputs": [],
   "source": [
    "where = np.where(np.mean(np.linalg.norm(posall, axis=-1), axis=-1)<100)"
   ]
  },
  {
   "cell_type": "code",
   "execution_count": 24,
   "id": "da572c6d",
   "metadata": {},
   "outputs": [
    {
     "data": {
      "text/plain": [
       "(644663,)"
      ]
     },
     "execution_count": 24,
     "metadata": {},
     "output_type": "execute_result"
    }
   ],
   "source": [
    "tlin.shape"
   ]
  },
  {
   "cell_type": "code",
   "execution_count": 22,
   "id": "78c3f4d9",
   "metadata": {},
   "outputs": [
    {
     "data": {
      "text/plain": [
       "(array([[ -131.24833751,  -270.43762333,   180.91977472],\n",
       "        [ -131.22395685,  -270.54757403,   181.04227162],\n",
       "        [ -129.5000651 ,  -273.23707974,   182.21088413],\n",
       "        [   -4.68000118,  -434.60442039,   222.97729437],\n",
       "        [  686.21139949,  1623.96845219, -1050.93375304],\n",
       "        [  693.1035266 ,  1617.01436461, -1053.86444136]]),\n",
       " array([[   -27.74281677,    199.70811859,    442.51651552],\n",
       "        [   -27.70526815,    199.69350322,    442.51022752],\n",
       "        [  -508.43886638,  -9896.02954009, -14833.16972165],\n",
       "        [   -31.6830949 ,    151.4977602 ,    435.8127425 ],\n",
       "        [   726.04168318,   3171.55145606,   3014.85231992],\n",
       "        [  -118.60597541,    259.87446931,    468.04115826]]))"
      ]
     },
     "execution_count": 22,
     "metadata": {},
     "output_type": "execute_result"
    }
   ],
   "source": [
    "f[0],f[-1]"
   ]
  },
  {
   "cell_type": "code",
   "execution_count": 12,
   "id": "532893f3",
   "metadata": {},
   "outputs": [],
   "source": [
    "# reformat and output to the json file\n",
    "#Nframes = times.size\n",
    "i0 = 0\n",
    "i1 = -1\n",
    "\n",
    "\n",
    "newData = dict()\n",
    "i = i0\n",
    "posallfin = f\n",
    "timesfin = tlin\n",
    "for t in timesfin[i0:i1]:\n",
    "    newData[t] = {}\n",
    "    j = 0\n",
    "    for iden in starIDs:\n",
    "        newData[t]['Particle' + str(iden)] = {'r': [posallfin[i,j,0], posallfin[i,j,1], posallfin[i,j,2]]}\n",
    "        j+=1\n",
    "    i+=1\n",
    "\n",
    "# serialize json\n",
    "json_object = json.dumps(newData, indent = 4)\n",
    " \n",
    "# write to file (ScatterParts.json is the file name, and it lives in the code's data directory)\n",
    "# Note: this will replace the default data set\n",
    "with open(os.path.join(os.getcwd(),'data','ScatterParts.json'), \"w\") as outfile:\n",
    "    outfile.write(json_object)"
   ]
  },
  {
   "cell_type": "code",
   "execution_count": 14,
   "id": "3a53ce3a",
   "metadata": {},
   "outputs": [
    {
     "data": {
      "text/plain": [
       "(644663, 6, 3)"
      ]
     },
     "execution_count": 14,
     "metadata": {},
     "output_type": "execute_result"
    }
   ],
   "source": [
    "f.shape"
   ]
  },
  {
   "cell_type": "code",
   "execution_count": 18,
   "id": "d8e9d303",
   "metadata": {},
   "outputs": [],
   "source": [
    "# define the port that you want (8000 is standard)\n",
    "port = 8002"
   ]
  },
  {
   "cell_type": "code",
   "execution_count": 19,
   "id": "486ee7ca",
   "metadata": {},
   "outputs": [
    {
     "name": "stdout",
     "output_type": "stream",
     "text": [
      "serving at port 8002\n"
     ]
    }
   ],
   "source": [
    "# a simple class to start the http server in a thread (so that you still have access to the jupyter notebook)\n",
    "class serverThread(Thread): \n",
    "    def run(self):\n",
    "        handler = http.server.SimpleHTTPRequestHandler\n",
    "        #os.chdir(directory)\n",
    "        with socketserver.TCPServer((\"\", port), handler) as httpd:\n",
    "            print(\"serving at port\", port)\n",
    "            httpd.serve_forever()\n",
    "\n",
    "serverThread().start()"
   ]
  },
  {
   "cell_type": "code",
   "execution_count": 20,
   "id": "e5b6e5cf",
   "metadata": {},
   "outputs": [
    {
     "data": {
      "text/html": [
       "\n",
       "        <iframe\n",
       "            width=\"1200\"\n",
       "            height=\"800\"\n",
       "            src=\"http://localhost:8002\"\n",
       "            frameborder=\"0\"\n",
       "            allowfullscreen\n",
       "            \n",
       "        ></iframe>\n",
       "        "
      ],
      "text/plain": [
       "<IPython.lib.display.IFrame at 0x7f0739c974c0>"
      ]
     },
     "execution_count": 20,
     "metadata": {},
     "output_type": "execute_result"
    },
    {
     "name": "stderr",
     "output_type": "stream",
     "text": [
      "127.0.0.1 - - [07/Feb/2023 09:33:30] \"GET / HTTP/1.1\" 304 -\n",
      "127.0.0.1 - - [07/Feb/2023 09:33:30] \"GET /css/index.css HTTP/1.1\" 304 -\n",
      "127.0.0.1 - - [07/Feb/2023 09:33:30] \"GET /resources/three.min.js HTTP/1.1\" 304 -\n",
      "127.0.0.1 - - [07/Feb/2023 09:33:30] \"GET /resources/Detector.js HTTP/1.1\" 304 -\n",
      "127.0.0.1 - - [07/Feb/2023 09:33:30] \"GET /resources/KeyboardState.js HTTP/1.1\" 304 -\n",
      "127.0.0.1 - - [07/Feb/2023 09:33:30] \"GET /resources/TrackballControls.js HTTP/1.1\" 200 -\n",
      "127.0.0.1 - - [07/Feb/2023 09:33:30] \"GET /resources/THREEx.FullScreen.js HTTP/1.1\" 304 -\n",
      "127.0.0.1 - - [07/Feb/2023 09:33:30] \"GET /resources/THREEx.WindowResize.js HTTP/1.1\" 304 -\n",
      "127.0.0.1 - - [07/Feb/2023 09:33:31] \"GET /resources/THREE.MeshLine.js HTTP/1.1\" 304 -\n",
      "127.0.0.1 - - [07/Feb/2023 09:33:31] \"GET /resources/StereoEffect.js HTTP/1.1\" 304 -\n",
      "127.0.0.1 - - [07/Feb/2023 09:33:31] \"GET /resources/EffectComposer.js HTTP/1.1\" 304 -\n",
      "127.0.0.1 - - [07/Feb/2023 09:33:31] \"GET /resources/CopyShader.js HTTP/1.1\" 304 -\n",
      "127.0.0.1 - - [07/Feb/2023 09:33:31] \"GET /resources/ShaderPass.js HTTP/1.1\" 304 -\n",
      "127.0.0.1 - - [07/Feb/2023 09:33:31] \"GET /resources/CCapture/CCapture.all.min.js HTTP/1.1\" 304 -\n",
      "127.0.0.1 - - [07/Feb/2023 09:33:31] \"GET /resources/dat.gui.js HTTP/1.1\" 304 -\n",
      "127.0.0.1 - - [07/Feb/2023 09:33:31] \"GET /resources/d3.v4.10.2.min.js HTTP/1.1\" 304 -\n",
      "127.0.0.1 - - [07/Feb/2023 09:33:31] \"GET /shaders/vertex.glsl.js HTTP/1.1\" 304 -\n",
      "127.0.0.1 - - [07/Feb/2023 09:33:31] \"GET /shaders/fragment.glsl.js HTTP/1.1\" 304 -\n",
      "127.0.0.1 - - [07/Feb/2023 09:33:31] \"GET /js/init.js HTTP/1.1\" 200 -\n",
      "127.0.0.1 - - [07/Feb/2023 09:33:31] \"GET /js/renderAll.js HTTP/1.1\" 304 -\n",
      "127.0.0.1 - - [07/Feb/2023 09:33:31] \"GET /js/draw.js HTTP/1.1\" 200 -\n",
      "127.0.0.1 - - [07/Feb/2023 09:33:31] \"GET /data/ScatterParts.json HTTP/1.1\" 200 -\n"
     ]
    }
   ],
   "source": [
    "# create an iFrame to view the visualization in this notebook\n",
    "IFrame(\"http://localhost:8002\", width = 1200, height = 800)"
   ]
  },
  {
   "cell_type": "code",
   "execution_count": null,
   "id": "43a66f55",
   "metadata": {},
   "outputs": [],
   "source": []
  }
 ],
 "metadata": {
  "kernelspec": {
   "display_name": "dany0",
   "language": "python",
   "name": "python3"
  },
  "language_info": {
   "codemirror_mode": {
    "name": "ipython",
    "version": 3
   },
   "file_extension": ".py",
   "mimetype": "text/x-python",
   "name": "python",
   "nbconvert_exporter": "python",
   "pygments_lexer": "ipython3",
   "version": "3.10.9"
  },
  "vscode": {
   "interpreter": {
    "hash": "b3f05b5e8de136dee46444aef1b1dddf406856df3dce70315bb2fe1453b24f24"
   }
  }
 },
 "nbformat": 4,
 "nbformat_minor": 5
}
